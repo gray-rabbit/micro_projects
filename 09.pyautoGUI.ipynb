{
 "cells": [
  {
   "cell_type": "code",
   "execution_count": null,
   "metadata": {},
   "outputs": [],
   "source": [
    "%pip install pyautogui"
   ]
  },
  {
   "cell_type": "code",
   "execution_count": null,
   "metadata": {},
   "outputs": [],
   "source": [
    "import pyautogui"
   ]
  },
  {
   "cell_type": "code",
   "execution_count": null,
   "metadata": {},
   "outputs": [],
   "source": [
    "#스크린과 마우스 위치\n",
    "pyautogui.size()"
   ]
  },
  {
   "cell_type": "code",
   "execution_count": null,
   "metadata": {},
   "outputs": [],
   "source": [
    "pyautogui.position()"
   ]
  },
  {
   "cell_type": "code",
   "execution_count": null,
   "metadata": {},
   "outputs": [],
   "source": [
    "import sys\n",
    "import time\n",
    "print(\"컨트롤+C를 눌러 중단하세요.\")\n",
    "try:\n",
    "    while True:\n",
    "        x,y = pyautogui.position()\n",
    "        positionStr = f\"마우스 X:{x} 마우스 y:{y}\"\n",
    "        print(positionStr)\n",
    "        time.sleep(1)\n",
    "except KeyboardInterrupt:\n",
    "    print(\"\\n\")"
   ]
  },
  {
   "cell_type": "code",
   "execution_count": null,
   "metadata": {},
   "outputs": [],
   "source": [
    "#절대 좌표로 이동\n",
    "pyautogui.moveTo(100,200)\n",
    "time.sleep(5)\n",
    "#2초동안의 딜레이를 갖고 움직임\n",
    "pyautogui.moveTo(500,300,2)"
   ]
  },
  {
   "cell_type": "code",
   "execution_count": null,
   "metadata": {},
   "outputs": [],
   "source": [
    "pyautogui.moveTo(100, 200)  # 절대좌표 100, 200으로 이동\n",
    "time.sleep(1)\n",
    "pyautogui.move(0, 50)       # 상대좌표 y +50이동\n",
    "time.sleep(1)\n",
    "pyautogui.move(-30, 0)      # 상대좌표 x -30이동"
   ]
  },
  {
   "cell_type": "code",
   "execution_count": null,
   "metadata": {},
   "outputs": [],
   "source": [
    "pyautogui.moveTo(10,10)\n",
    "pyautogui.dragTo(100, 200, button='left')     # 마우스 드레그 100,200까지 왼쪽 마우스\n",
    "time.sleep(1)\n",
    "pyautogui.dragTo(300, 400, 2, button='left')  # 마우스 드레그 2초 동안 100,200까지 왼쪽 마우스\n",
    "time.sleep(1)\n",
    "pyautogui.drag(30, 0, 2, button='right')   # 현재위치에서 x +30까지 2초등안 오른쪽 마우스"
   ]
  },
  {
   "cell_type": "code",
   "execution_count": null,
   "metadata": {},
   "outputs": [],
   "source": [
    "# 마우스 클릭\n",
    "pyautogui.click()  \n",
    "# 좌표를 지정하여 클릭\n",
    "pyautogui.click(x=100, y=200)  \n",
    "# 버튼을 지정하여 클릭\n",
    "pyautogui.click(button='right')  \n",
    "# 왼쪽버튼 더블 클릭\n",
    "pyautogui.click(clicks=2)  \n",
    "# 왼쪽버튼 더블 클릭(인터벌 지정)\n",
    "pyautogui.click(clicks=2, interval=0.25)  \n",
    "# 오른쪽버튼 트리플 클릭(인터벌 지정)\n",
    "pyautogui.click(button='right', clicks=3, interval=0.25)  \n",
    "# 버튼 더블클릭\n",
    "pyautogui.doubleClick() "
   ]
  },
  {
   "cell_type": "code",
   "execution_count": null,
   "metadata": {},
   "outputs": [],
   "source": [
    "# 마우스 누름 \n",
    "pyautogui.mouseDown() \n",
    "# 마우스 땜\n",
    "pyautogui.mouseUp()  \n",
    "# 마우스 누름(오른쪽)\n",
    "pyautogui.mouseDown(button='right')  \n",
    "# 마우스 땜(오른쪽), 좌표\n",
    "pyautogui.mouseUp(button='right', x=100, y=200)  "
   ]
  },
  {
   "cell_type": "code",
   "execution_count": null,
   "metadata": {},
   "outputs": [],
   "source": [
    "# 스크롤 업 10\n",
    "pyautogui.scroll(10)   \n",
    "# 스크롤 다운 10\n",
    "pyautogui.scroll(-10)\n",
    "# 스크롤 업과 좌표지정\n",
    "pyautogui.scroll(10, x=100, y=100)"
   ]
  },
  {
   "cell_type": "code",
   "execution_count": null,
   "metadata": {},
   "outputs": [],
   "source": [
    "#맥 , linux용\n",
    "pyautogui.hscroll(10)  \n",
    "pyautogui.hscroll(-10) "
   ]
  },
  {
   "cell_type": "code",
   "execution_count": null,
   "metadata": {},
   "outputs": [],
   "source": [
    "# 키보드 입력\n",
    "pyautogui.write(\"hello\")\n",
    "pyautogui.write(\"heeee\", interval=.25)\n"
   ]
  },
  {
   "cell_type": "code",
   "execution_count": null,
   "metadata": {},
   "outputs": [],
   "source": [
    "pyautogui.press(\"enter\")\n",
    "pyautogui.press(\"f1\")\n",
    "pyautogui.press(\"left\")"
   ]
  },
  {
   "cell_type": "code",
   "execution_count": null,
   "metadata": {},
   "outputs": [],
   "source": [
    "# 쉬프트 누르기\n",
    "pyautogui.keyDown('shift')  \n",
    "pyautogui.press('left')     \n",
    "pyautogui.press('left')     \n",
    "pyautogui.press('left')     \n",
    "# 쉬프트 릴리즈\n",
    "pyautogui.keyUp('shift')\n"
   ]
  },
  {
   "cell_type": "code",
   "execution_count": null,
   "metadata": {},
   "outputs": [],
   "source": [
    "# 누른 상태로 다른 키 누르기\n",
    "with pyautogui.hold('shift'):\n",
    "    pyautogui.press(['left', 'left', 'left'])\n",
    "\n",
    "# 위 명령은 아래와 같음.\n",
    "pyautogui.keyDown('shift')  \n",
    "pyautogui.press('left')     \n",
    "pyautogui.press('left')     \n",
    "pyautogui.press('left')     \n",
    "pyautogui.keyUp('shift')  "
   ]
  },
  {
   "cell_type": "markdown",
   "metadata": {},
   "source": []
  },
  {
   "cell_type": "code",
   "execution_count": null,
   "metadata": {},
   "outputs": [],
   "source": [
    "pyautogui.hotkey('win', 'e')"
   ]
  },
  {
   "cell_type": "code",
   "execution_count": null,
   "metadata": {},
   "outputs": [],
   "source": [
    "pyautogui.keyDown('ctrl')\n",
    "pyautogui.keyDown('shift')\n",
    "pyautogui.keyDown('esc')\n",
    "pyautogui.keyUp('esc')\n",
    "pyautogui.keyUp('shift')\n",
    "pyautogui.keyUp('ctrl')"
   ]
  },
  {
   "cell_type": "code",
   "execution_count": 2,
   "metadata": {},
   "outputs": [],
   "source": [
    "#pillow 필요\n",
    "import pyautogui\n",
    "im1 = pyautogui.screenshot()\n",
    "im2 = pyautogui.screenshot('my_screenshot.png')"
   ]
  },
  {
   "cell_type": "code",
   "execution_count": 5,
   "metadata": {},
   "outputs": [
    {
     "data": {
      "text/plain": [
       "60.07905368486219"
      ]
     },
     "execution_count": 5,
     "metadata": {},
     "output_type": "execute_result"
    },
    {
     "ename": "",
     "evalue": "",
     "output_type": "error",
     "traceback": [
      "\u001b[1;31m현재 셀 또는 이전 셀에서 코드를 실행하는 동안 Kernel이 충돌했습니다. 셀의 코드를 검토하여 오류의 가능한 원인을 식별하세요. 자세한 내용을 보려면 <a href='https://aka.ms/vscodeJupyterKernelCrash'> 여기 </a> 를 클릭하세요. 자세한 내용은 Jupyter <a href='command:jupyter.viewOutput'>로그</a>를 참조하세요."
     ]
    }
   ],
   "source": [
    "import numpy as np\n",
    "m1 = pyautogui.screenshot()\n",
    "np.average(np.array(m1))\n",
    "\n"
   ]
  },
  {
   "cell_type": "code",
   "execution_count": null,
   "metadata": {},
   "outputs": [],
   "source": []
  }
 ],
 "metadata": {
  "kernelspec": {
   "display_name": "Python 3.9.13 64-bit (windows store)",
   "language": "python",
   "name": "python3"
  },
  "language_info": {
   "codemirror_mode": {
    "name": "ipython",
    "version": 3
   },
   "file_extension": ".py",
   "mimetype": "text/x-python",
   "name": "python",
   "nbconvert_exporter": "python",
   "pygments_lexer": "ipython3",
   "version": "3.9.13"
  },
  "orig_nbformat": 4,
  "vscode": {
   "interpreter": {
    "hash": "3b1d11a3c36c6fc38730c0bbac2bbc1481b61daf269debc03c94e1fe6d695095"
   }
  }
 },
 "nbformat": 4,
 "nbformat_minor": 2
}
