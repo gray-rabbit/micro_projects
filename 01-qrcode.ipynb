{
 "cells": [
  {
   "cell_type": "code",
   "execution_count": null,
   "metadata": {},
   "outputs": [],
   "source": [
    "#qr코드 라이브러리 다운로드\n",
    "!pip install qrcode[pil]"
   ]
  },
  {
   "cell_type": "code",
   "execution_count": null,
   "metadata": {},
   "outputs": [],
   "source": [
    "import qrcode #라이브러리를 가져온다.\n",
    "qr = qrcode.make(\"MECARD:N:성준,박;TEL:01077000000;ADR:정보원 창고;EMAIL:talksis@songmyun.es.kr;;\") #웹사이트 주소를 넣는다.\n",
    "qr.save(\"myqrcode.png\") #파일로 저장한다.\n",
    "qr\n",
    "# import os\n",
    "# os.startfile(\"myqrcode.png\") \n",
    "# 위의 코드로 입력하면 컴퓨터에서 파일을 더블클릭한 것과 같은 효과를 냅니다."
   ]
  },
  {
   "cell_type": "markdown",
   "metadata": {},
   "source": [
    "### 여기에서 잠깐!\n",
    "\n",
    "어떻게 웹사이트로 연결되었을까요?\n",
    "\n",
    "\n",
    "## URI scheme 때문!!\n",
    "\n",
    "일반적인 URI scheme는 다음과 같습니다. \n",
    "\n",
    "1. 문자전송\n",
    "\n",
    "예1)SMSTO:01077000000\n",
    "\n",
    "예2)SMSTO:\n",
    "\n",
    "2. 전화\n",
    "\n",
    "예) tel:01077000000\n",
    "\n",
    "3. 주소록\n",
    "\n",
    "예) MECARD:N:성준,박;ADR:76 9th Avenue, 4th Floor, New York, NY 10011;TEL:12125551212;EMAIL:srowen@example.com;;\n",
    "\n",
    "4. 와이파이\n",
    "\n",
    "예) WIFI:T:WPA2-EAP;S:네트워크이름;P:패스워드입력;;\n",
    "\n",
    "5. URL\n",
    "\n",
    "예) https://www.google.com"
   ]
  }
 ],
 "metadata": {
  "kernelspec": {
   "display_name": "Python 3.9.13 64-bit (windows store)",
   "language": "python",
   "name": "python3"
  },
  "language_info": {
   "codemirror_mode": {
    "name": "ipython",
    "version": 3
   },
   "file_extension": ".py",
   "mimetype": "text/x-python",
   "name": "python",
   "nbconvert_exporter": "python",
   "pygments_lexer": "ipython3",
   "version": "3.9.13"
  },
  "orig_nbformat": 4,
  "vscode": {
   "interpreter": {
    "hash": "3b1d11a3c36c6fc38730c0bbac2bbc1481b61daf269debc03c94e1fe6d695095"
   }
  }
 },
 "nbformat": 4,
 "nbformat_minor": 2
}
