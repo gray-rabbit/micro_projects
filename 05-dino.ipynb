{
 "cells": [
  {
   "cell_type": "markdown",
   "metadata": {},
   "source": [
    "### 디노 자동화\n",
    "\n",
    "\n",
    "크롬에 chrome://dino 로 갑시다.\n",
    "화면을 좌측 상단에 붙이고 너비는 최소화 시킵니다."
   ]
  },
  {
   "cell_type": "code",
   "execution_count": null,
   "metadata": {},
   "outputs": [],
   "source": [
    "!pip install pyautogui keyboard\n"
   ]
  },
  {
   "cell_type": "code",
   "execution_count": null,
   "metadata": {},
   "outputs": [],
   "source": [
    "import time\n",
    "import keyboard\n",
    "import pyautogui"
   ]
  },
  {
   "cell_type": "code",
   "execution_count": 64,
   "metadata": {},
   "outputs": [
    {
     "name": "stdout",
     "output_type": "stream",
     "text": [
      "w\n"
     ]
    },
    {
     "ename": "",
     "evalue": "",
     "output_type": "error",
     "traceback": [
      "\u001b[1;31mThe Kernel crashed while executing code in the the current cell or a previous cell. Please review the code in the cell(s) to identify a possible cause of the failure. Click <a href='https://aka.ms/vscodeJupyterKernelCrash'>here</a> for more info. View Jupyter <a href='command:jupyter.viewOutput'>log</a> for further details."
     ]
    }
   ],
   "source": [
    "\n",
    "#좌표가 맞지 않는다면, \n",
    "pyautogui.moveTo(160,450)\n",
    "pyautogui.click()\n",
    "while True:\n",
    "    screen = pyautogui.screenshot(region=(0,0,200,460))\n",
    "    r,_,_ = screen.getpixel((160,450))\n",
    "    r1,_,_=screen.getpixel((170,450))\n",
    "    r2,_,_=screen.getpixel((180,450))\n",
    "    if r!=32 or r1!=32 or r2!=32:\n",
    "        pyautogui.press(\"up\")\n",
    "        time.sleep(.1)\n",
    "    else:\n",
    "        time.sleep(.01)\n",
    "    if keyboard.is_pressed(\"w\"):\n",
    "        print(\"w\")\n",
    "        break\n"
   ]
  },
  {
   "cell_type": "code",
   "execution_count": null,
   "metadata": {},
   "outputs": [],
   "source": []
  }
 ],
 "metadata": {
  "kernelspec": {
   "display_name": "Python 3.9.13 64-bit (windows store)",
   "language": "python",
   "name": "python3"
  },
  "language_info": {
   "codemirror_mode": {
    "name": "ipython",
    "version": 3
   },
   "file_extension": ".py",
   "mimetype": "text/x-python",
   "name": "python",
   "nbconvert_exporter": "python",
   "pygments_lexer": "ipython3",
   "version": "3.9.13"
  },
  "orig_nbformat": 4,
  "vscode": {
   "interpreter": {
    "hash": "3b1d11a3c36c6fc38730c0bbac2bbc1481b61daf269debc03c94e1fe6d695095"
   }
  }
 },
 "nbformat": 4,
 "nbformat_minor": 2
}
