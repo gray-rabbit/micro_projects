{
 "cells": [
  {
   "cell_type": "code",
   "execution_count": null,
   "metadata": {},
   "outputs": [],
   "source": [
    "!pip install pyautogui keyboard"
   ]
  },
  {
   "cell_type": "code",
   "execution_count": null,
   "metadata": {},
   "outputs": [],
   "source": [
    "import time\n",
    "import keyboard\n",
    "import pyautogui"
   ]
  },
  {
   "cell_type": "code",
   "execution_count": 49,
   "metadata": {},
   "outputs": [],
   "source": [
    "pyautogui.moveTo(160,450)\n",
    "pyautogui.click()\n",
    "while True:\n",
    "    screen = pyautogui.screenshot()\n",
    "    r,_,_ = screen.getpixel((160,450))\n",
    "    if r!=32:\n",
    "        pyautogui.press(\"space\")\n",
    "        time.sleep(.5)\n",
    "    else:\n",
    "        keyboard.press(\"s\")\n",
    "        time.sleep(.001)\n",
    "\n",
    "    if keyboard.is_pressed(\"w\"):\n",
    "        print(\"w\")\n",
    "        break\n"
   ]
  },
  {
   "cell_type": "code",
   "execution_count": null,
   "metadata": {},
   "outputs": [],
   "source": []
  }
 ],
 "metadata": {
  "kernelspec": {
   "display_name": "Python 3.9.13 64-bit (windows store)",
   "language": "python",
   "name": "python3"
  },
  "language_info": {
   "codemirror_mode": {
    "name": "ipython",
    "version": 3
   },
   "file_extension": ".py",
   "mimetype": "text/x-python",
   "name": "python",
   "nbconvert_exporter": "python",
   "pygments_lexer": "ipython3",
   "version": "3.9.13"
  },
  "orig_nbformat": 4,
  "vscode": {
   "interpreter": {
    "hash": "3b1d11a3c36c6fc38730c0bbac2bbc1481b61daf269debc03c94e1fe6d695095"
   }
  }
 },
 "nbformat": 4,
 "nbformat_minor": 2
}
