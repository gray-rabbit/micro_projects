{
 "cells": [
  {
   "cell_type": "code",
   "execution_count": null,
   "metadata": {},
   "outputs": [],
   "source": [
    "#라이브러리 설치\n",
    "!pip install pytube"
   ]
  },
  {
   "cell_type": "code",
   "execution_count": null,
   "metadata": {},
   "outputs": [],
   "source": [
    "# 유튜브 라이브러리를 가져옵니다. \n",
    "from pytube import YouTube"
   ]
  },
  {
   "cell_type": "code",
   "execution_count": null,
   "metadata": {},
   "outputs": [],
   "source": [
    "yt = YouTube(\"https://www.youtube.com/watch?v=xYMxzPqBU-s&list=RDMMxYMxzPqBU-s&start_radio=1\")"
   ]
  },
  {
   "cell_type": "code",
   "execution_count": null,
   "metadata": {},
   "outputs": [],
   "source": [
    "# url이 나타납니다. \n",
    "yt.thumbnail_url\n",
    "# yt.title\n",
    "# 만약 url을 가지고 다운받고 싶다면...\n",
    "# import urllib.request\n",
    "# urllib.request.urlretrieve(yt.thumbnail_url,\"test.png\")\n",
    "\n",
    "# 썸네일 정규식으로 \n",
    "# import re\n",
    "# new_title = re.sub(\"[^가-힠 0-9A-Z]*\",\"\",yt.title)\n",
    "# urllib.request.urlretrieve(yt.thumbnail_url,f\"{new_title}.png\")\n"
   ]
  },
  {
   "cell_type": "code",
   "execution_count": null,
   "metadata": {},
   "outputs": [],
   "source": [
    "# 유튜브는 다양한 해상도를 기반으로 저장되어 있습니다. \n",
    "yt.streams"
   ]
  },
  {
   "cell_type": "code",
   "execution_count": null,
   "metadata": {},
   "outputs": [],
   "source": [
    "# 유튜브는 다양한 인코딩을 가지고 있습니다. \n",
    "# 간혹 소리가 안나오는 경우가 있으니 progressive를 true로 설정합니다.\n",
    "# 파일 확장자는 mp4 \n",
    "# desc는 역으로 내림차순으로 정렬합니다.\n",
    "# 그중 첫번째 파일을 다운 받습니다.\n",
    "\n",
    "yt.streams.filter(file_extension=\"mp4\",progressive=True).desc().first().download()"
   ]
  },
  {
   "cell_type": "code",
   "execution_count": null,
   "metadata": {},
   "outputs": [],
   "source": [
    "# 이 이후에는 리스트를 학습하고 합시다.\n",
    "# 플레이 리스트 대응\n",
    "from pytube import Playlist\n",
    "\n",
    "pl = Playlist(\"https://www.youtube.com/watch?v=98BzS5Oz5E4&list=PL4cUxeGkcC9iJ_KkrkBZWZRHVwnzLIoUE\")"
   ]
  },
  {
   "cell_type": "code",
   "execution_count": null,
   "metadata": {},
   "outputs": [],
   "source": [
    "for i in pl.videos:\n",
    "    print(i.thumbnail_url)"
   ]
  }
 ],
 "metadata": {
  "kernelspec": {
   "display_name": "Python 3.9.13 64-bit (windows store)",
   "language": "python",
   "name": "python3"
  },
  "language_info": {
   "codemirror_mode": {
    "name": "ipython",
    "version": 3
   },
   "file_extension": ".py",
   "mimetype": "text/x-python",
   "name": "python",
   "nbconvert_exporter": "python",
   "pygments_lexer": "ipython3",
   "version": "3.9.13"
  },
  "orig_nbformat": 4,
  "vscode": {
   "interpreter": {
    "hash": "3b1d11a3c36c6fc38730c0bbac2bbc1481b61daf269debc03c94e1fe6d695095"
   }
  }
 },
 "nbformat": 4,
 "nbformat_minor": 2
}
