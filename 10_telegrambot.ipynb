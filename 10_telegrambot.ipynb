{
 "cells": [
  {
   "cell_type": "code",
   "execution_count": null,
   "metadata": {},
   "outputs": [],
   "source": [
    "%pip install requests"
   ]
  },
  {
   "cell_type": "code",
   "execution_count": 1,
   "metadata": {},
   "outputs": [
    {
     "data": {
      "text/plain": [
       "'{\"ok\":true,\"result\":[{\"update_id\":19529736,\\n\"message\":{\"message_id\":6,\"from\":{\"id\":45575243,\"is_bot\":false,\"first_name\":\"\\\\uc131\\\\uc900\",\"last_name\":\"\\\\ubc15\",\"username\":\"talksis\",\"language_code\":\"ko\"},\"chat\":{\"id\":45575243,\"first_name\":\"\\\\uc131\\\\uc900\",\"last_name\":\"\\\\ubc15\",\"username\":\"talksis\",\"type\":\"private\"},\"date\":1658647306,\"text\":\"\\\\ud558\\\\ud558\"}},{\"update_id\":19529737,\\n\"message\":{\"message_id\":7,\"from\":{\"id\":45575243,\"is_bot\":false,\"first_name\":\"\\\\uc131\\\\uc900\",\"last_name\":\"\\\\ubc15\",\"username\":\"talksis\",\"language_code\":\"ko\"},\"chat\":{\"id\":45575243,\"first_name\":\"\\\\uc131\\\\uc900\",\"last_name\":\"\\\\ubc15\",\"username\":\"talksis\",\"type\":\"private\"},\"date\":1658647365,\"text\":\"1\"}},{\"update_id\":19529738,\\n\"message\":{\"message_id\":8,\"from\":{\"id\":45575243,\"is_bot\":false,\"first_name\":\"\\\\uc131\\\\uc900\",\"last_name\":\"\\\\ubc15\",\"username\":\"talksis\",\"language_code\":\"ko\"},\"chat\":{\"id\":45575243,\"first_name\":\"\\\\uc131\\\\uc900\",\"last_name\":\"\\\\ubc15\",\"username\":\"talksis\",\"type\":\"private\"},\"date\":1658647366,\"text\":\"2\"}},{\"update_id\":19529739,\\n\"message\":{\"message_id\":9,\"from\":{\"id\":45575243,\"is_bot\":false,\"first_name\":\"\\\\uc131\\\\uc900\",\"last_name\":\"\\\\ubc15\",\"username\":\"talksis\",\"language_code\":\"ko\"},\"chat\":{\"id\":45575243,\"first_name\":\"\\\\uc131\\\\uc900\",\"last_name\":\"\\\\ubc15\",\"username\":\"talksis\",\"type\":\"private\"},\"date\":1658647366,\"text\":\"3\"}},{\"update_id\":19529740,\\n\"message\":{\"message_id\":10,\"from\":{\"id\":45575243,\"is_bot\":false,\"first_name\":\"\\\\uc131\\\\uc900\",\"last_name\":\"\\\\ubc15\",\"username\":\"talksis\",\"language_code\":\"ko\"},\"chat\":{\"id\":45575243,\"first_name\":\"\\\\uc131\\\\uc900\",\"last_name\":\"\\\\ubc15\",\"username\":\"talksis\",\"type\":\"private\"},\"date\":1658647366,\"text\":\"4\"}},{\"update_id\":19529741,\\n\"message\":{\"message_id\":11,\"from\":{\"id\":45575243,\"is_bot\":false,\"first_name\":\"\\\\uc131\\\\uc900\",\"last_name\":\"\\\\ubc15\",\"username\":\"talksis\",\"language_code\":\"ko\"},\"chat\":{\"id\":45575243,\"first_name\":\"\\\\uc131\\\\uc900\",\"last_name\":\"\\\\ubc15\",\"username\":\"talksis\",\"type\":\"private\"},\"date\":1658647366,\"text\":\"5\"}},{\"update_id\":19529742,\\n\"message\":{\"message_id\":12,\"from\":{\"id\":45575243,\"is_bot\":false,\"first_name\":\"\\\\uc131\\\\uc900\",\"last_name\":\"\\\\ubc15\",\"username\":\"talksis\",\"language_code\":\"ko\"},\"chat\":{\"id\":45575243,\"first_name\":\"\\\\uc131\\\\uc900\",\"last_name\":\"\\\\ubc15\",\"username\":\"talksis\",\"type\":\"private\"},\"date\":1658647366,\"text\":\"6\"}},{\"update_id\":19529743,\\n\"message\":{\"message_id\":13,\"from\":{\"id\":45575243,\"is_bot\":false,\"first_name\":\"\\\\uc131\\\\uc900\",\"last_name\":\"\\\\ubc15\",\"username\":\"talksis\",\"language_code\":\"ko\"},\"chat\":{\"id\":45575243,\"first_name\":\"\\\\uc131\\\\uc900\",\"last_name\":\"\\\\ubc15\",\"username\":\"talksis\",\"type\":\"private\"},\"date\":1658647367,\"text\":\"7\"}},{\"update_id\":19529744,\\n\"message\":{\"message_id\":14,\"from\":{\"id\":45575243,\"is_bot\":false,\"first_name\":\"\\\\uc131\\\\uc900\",\"last_name\":\"\\\\ubc15\",\"username\":\"talksis\",\"language_code\":\"ko\"},\"chat\":{\"id\":45575243,\"first_name\":\"\\\\uc131\\\\uc900\",\"last_name\":\"\\\\ubc15\",\"username\":\"talksis\",\"type\":\"private\"},\"date\":1658647367,\"text\":\"8\"}},{\"update_id\":19529745,\\n\"message\":{\"message_id\":15,\"from\":{\"id\":45575243,\"is_bot\":false,\"first_name\":\"\\\\uc131\\\\uc900\",\"last_name\":\"\\\\ubc15\",\"username\":\"talksis\",\"language_code\":\"ko\"},\"chat\":{\"id\":45575243,\"first_name\":\"\\\\uc131\\\\uc900\",\"last_name\":\"\\\\ubc15\",\"username\":\"talksis\",\"type\":\"private\"},\"date\":1658647367,\"text\":\"9\"}},{\"update_id\":19529746,\\n\"message\":{\"message_id\":16,\"from\":{\"id\":45575243,\"is_bot\":false,\"first_name\":\"\\\\uc131\\\\uc900\",\"last_name\":\"\\\\ubc15\",\"username\":\"talksis\",\"language_code\":\"ko\"},\"chat\":{\"id\":45575243,\"first_name\":\"\\\\uc131\\\\uc900\",\"last_name\":\"\\\\ubc15\",\"username\":\"talksis\",\"type\":\"private\"},\"date\":1658647368,\"text\":\"10\"}}]}'"
      ]
     },
     "execution_count": 1,
     "metadata": {},
     "output_type": "execute_result"
    }
   ],
   "source": [
    "import requests\n",
    "BASE_URL = \"https://api.telegram.org/bot\"\n",
    "API_KEY = \"5559618378:AAFVuvXSwO6RUfzDovoqlvUa1MgO4RFjNkE\"\n",
    "URL = f\"{BASE_URL}{API_KEY}/\"\n",
    "response = requests.get(URL+\"getUpdates\")\n",
    "response.text"
   ]
  },
  {
   "cell_type": "code",
   "execution_count": null,
   "metadata": {},
   "outputs": [],
   "source": [
    "import json \n",
    "json.loads(response.text)"
   ]
  },
  {
   "cell_type": "code",
   "execution_count": null,
   "metadata": {},
   "outputs": [],
   "source": [
    "data = json.loads(response.text)\n",
    "msgs = []\n",
    "if data[\"ok\"]:\n",
    "    msgs = data[\"result\"]\n",
    "for msg in msgs:\n",
    "    print(msg)"
   ]
  },
  {
   "cell_type": "code",
   "execution_count": null,
   "metadata": {},
   "outputs": [],
   "source": [
    "last_update_id = 19529735\n",
    "parameter = {\n",
    "    \"offset\":last_update_id\n",
    "}\n",
    "response = requests.get(URL+\"getUpdates\",params=parameter)\n",
    "response.text"
   ]
  },
  {
   "cell_type": "code",
   "execution_count": null,
   "metadata": {},
   "outputs": [],
   "source": [
    "last_update_id = 19529736\n",
    "parameter = {\n",
    "    \"offset\":last_update_id,\n",
    "    \"limit\":3\n",
    "}\n",
    "response = requests.get(URL+\"getUpdates\",params=parameter)\n",
    "response.text"
   ]
  },
  {
   "cell_type": "code",
   "execution_count": null,
   "metadata": {},
   "outputs": [],
   "source": [
    "## 메세지 보내기\n",
    "parameter = {\n",
    "    \"chat_id\":45575243,\n",
    "    \"text\":\"안녕하세요!\"\n",
    "}\n",
    "response = requests.get(URL+\"sendMessage\", params=parameter)\n",
    "response.text\n"
   ]
  },
  {
   "cell_type": "code",
   "execution_count": 12,
   "metadata": {},
   "outputs": [
    {
     "data": {
      "text/plain": [
       "'{\"ok\":true,\"result\":{\"message_id\":24,\"from\":{\"id\":5559618378,\"is_bot\":true,\"first_name\":\"jj_first\",\"username\":\"wpcjsdudwo_01_bot\"},\"chat\":{\"id\":45575243,\"first_name\":\"\\\\uc131\\\\uc900\",\"last_name\":\"\\\\ubc15\",\"username\":\"talksis\",\"type\":\"private\"},\"date\":1658649051,\"photo\":[{\"file_id\":\"AgACAgQAAxkDAAMYYtz526lT7OddJnA0iT2yv9bLiy8AArKuMRuKuu1SRp0H2xmrrqEBAAMCAANzAAMpBA\",\"file_unique_id\":\"AQADsq4xG4q67VJ4\",\"file_size\":2334,\"width\":90,\"height\":90},{\"file_id\":\"AgACAgQAAxkDAAMYYtz526lT7OddJnA0iT2yv9bLiy8AArKuMRuKuu1SRp0H2xmrrqEBAAMCAANtAAMpBA\",\"file_unique_id\":\"AQADsq4xG4q67VJy\",\"file_size\":12154,\"width\":210,\"height\":210}]}}'"
      ]
     },
     "execution_count": 12,
     "metadata": {},
     "output_type": "execute_result"
    }
   ],
   "source": [
    "#사진 보내기\n",
    "parameter = {\n",
    "    \"chat_id\":45575243,\n",
    "    \"photo\":\"https://item.kakaocdn.net/do/2a091238b12c93adb13b0f65b19c488a9f5287469802eca457586a25a096fd31\"\n",
    "}\n",
    "response = requests.post(URL+\"sendPhoto\", params=parameter,files={\"photo\":files})\n",
    "response.text\n"
   ]
  },
  {
   "cell_type": "code",
   "execution_count": 13,
   "metadata": {},
   "outputs": [
    {
     "data": {
      "text/plain": [
       "'{\"ok\":true,\"result\":{\"message_id\":25,\"from\":{\"id\":5559618378,\"is_bot\":true,\"first_name\":\"jj_first\",\"username\":\"wpcjsdudwo_01_bot\"},\"chat\":{\"id\":45575243,\"first_name\":\"\\\\uc131\\\\uc900\",\"last_name\":\"\\\\ubc15\",\"username\":\"talksis\",\"type\":\"private\"},\"date\":1658653784,\"photo\":[{\"file_id\":\"AgACAgUAAxkDAAMZYt0MWLNrBpnfuvvFUXuczk4Q5N4AAtaxMRtl5elWCjRf3gXfFzgBAAMCAANzAAMpBA\",\"file_unique_id\":\"AQAD1rExG2Xl6VZ4\",\"file_size\":2334,\"width\":90,\"height\":90},{\"file_id\":\"AgACAgUAAxkDAAMZYt0MWLNrBpnfuvvFUXuczk4Q5N4AAtaxMRtl5elWCjRf3gXfFzgBAAMCAANtAAMpBA\",\"file_unique_id\":\"AQAD1rExG2Xl6VZy\",\"file_size\":12154,\"width\":210,\"height\":210}]}}'"
      ]
     },
     "execution_count": 13,
     "metadata": {},
     "output_type": "execute_result"
    }
   ],
   "source": [
    "files = open(\"짤.png\",\"rb\")\n",
    "parameter = {\n",
    "    \"chat_id\":45575243,\n",
    "}\n",
    "response = requests.post(URL+\"sendPhoto\", \n",
    "    params=parameter,\n",
    "    files={\"photo\":files})\n",
    "response.text\n"
   ]
  },
  {
   "cell_type": "code",
   "execution_count": 35,
   "metadata": {},
   "outputs": [],
   "source": [
    "import json\n",
    "import requests\n",
    "\n",
    "\n",
    "def read_message(offset: int):\n",
    "    parameter = {\n",
    "        \"offset\": offset\n",
    "    }\n",
    "    response = requests.get(URL+\"getUpdates\", parameter)\n",
    "    data = json.loads(response.text)\n",
    "    return_data = []\n",
    "    new_offset = -1\n",
    "    if data[\"ok\"]:\n",
    "        return_data = data[\"result\"]\n",
    "\n",
    "    return return_data\n",
    "# read_message(0)"
   ]
  },
  {
   "cell_type": "code",
   "execution_count": 30,
   "metadata": {},
   "outputs": [],
   "source": [
    "def send_message(chat_id: int, textMessage):\n",
    "    parameter = {\n",
    "        \"chat_id\": chat_id,\n",
    "        \"text\": textMessage\n",
    "    }\n",
    "    response = requests.get(URL+\"sendMessage\", parameter)\n",
    "    result = response.json()\n",
    "    if result[\"ok\"]:\n",
    "        return True\n",
    "    return False"
   ]
  },
  {
   "cell_type": "code",
   "execution_count": 40,
   "metadata": {},
   "outputs": [
    {
     "ename": "KeyboardInterrupt",
     "evalue": "",
     "output_type": "error",
     "traceback": [
      "\u001b[1;31m---------------------------------------------------------------------------\u001b[0m",
      "\u001b[1;31mKeyboardInterrupt\u001b[0m                         Traceback (most recent call last)",
      "\u001b[1;32mf:\\python_workspace\\micro_projects\\10_telegrambot.ipynb 셀 12\u001b[0m in \u001b[0;36m<cell line: 5>\u001b[1;34m()\u001b[0m\n\u001b[0;32m      <a href='vscode-notebook-cell:/f%3A/python_workspace/micro_projects/10_telegrambot.ipynb#ch0000011?line=2'>3</a>\u001b[0m offset \u001b[39m=\u001b[39m \u001b[39m0\u001b[39m\n\u001b[0;32m      <a href='vscode-notebook-cell:/f%3A/python_workspace/micro_projects/10_telegrambot.ipynb#ch0000011?line=3'>4</a>\u001b[0m \u001b[39mwhile\u001b[39;00m \u001b[39mTrue\u001b[39;00m:\n\u001b[1;32m----> <a href='vscode-notebook-cell:/f%3A/python_workspace/micro_projects/10_telegrambot.ipynb#ch0000011?line=4'>5</a>\u001b[0m     time\u001b[39m.\u001b[39;49msleep(\u001b[39m10\u001b[39;49m)\n\u001b[0;32m      <a href='vscode-notebook-cell:/f%3A/python_workspace/micro_projects/10_telegrambot.ipynb#ch0000011?line=5'>6</a>\u001b[0m     msgs \u001b[39m=\u001b[39m read_message(offset)\n\u001b[0;32m      <a href='vscode-notebook-cell:/f%3A/python_workspace/micro_projects/10_telegrambot.ipynb#ch0000011?line=6'>7</a>\u001b[0m     \u001b[39mfor\u001b[39;00m msg \u001b[39min\u001b[39;00m msgs:\n",
      "\u001b[1;31mKeyboardInterrupt\u001b[0m: "
     ]
    }
   ],
   "source": [
    "import time\n",
    "datas = []\n",
    "offset = 0\n",
    "while True:\n",
    "    time.sleep(10)\n",
    "    msgs = read_message(offset)\n",
    "    for msg in msgs:\n",
    "        text = msg[\"message\"][\"text\"]\n",
    "        chat_id = msg[\"message\"][\"chat\"][\"id\"]\n",
    "        result = send_message(chat_id,text)\n",
    "        if result ==False:\n",
    "            datas.append(msg)\n",
    "        else:\n",
    "            offset = msg[\"update_id\"]\n",
    "    \n",
    "print(datas)\n",
    "\n",
    "    \n",
    "\n"
   ]
  },
  {
   "cell_type": "code",
   "execution_count": null,
   "metadata": {},
   "outputs": [],
   "source": []
  }
 ],
 "metadata": {
  "kernelspec": {
   "display_name": "Python 3.9.13 64-bit (windows store)",
   "language": "python",
   "name": "python3"
  },
  "language_info": {
   "codemirror_mode": {
    "name": "ipython",
    "version": 3
   },
   "file_extension": ".py",
   "mimetype": "text/x-python",
   "name": "python",
   "nbconvert_exporter": "python",
   "pygments_lexer": "ipython3",
   "version": "3.9.13"
  },
  "orig_nbformat": 4,
  "vscode": {
   "interpreter": {
    "hash": "3b1d11a3c36c6fc38730c0bbac2bbc1481b61daf269debc03c94e1fe6d695095"
   }
  }
 },
 "nbformat": 4,
 "nbformat_minor": 2
}
