{
 "cells": [
  {
   "cell_type": "code",
   "execution_count": 2,
   "metadata": {},
   "outputs": [],
   "source": [
    "import tkinter as tk"
   ]
  },
  {
   "cell_type": "code",
   "execution_count": 17,
   "metadata": {},
   "outputs": [
    {
     "name": "stdout",
     "output_type": "stream",
     "text": [
      "press\n",
      "press\n",
      "press\n",
      "press\n",
      "press\n",
      "press\n",
      "press\n",
      "press\n"
     ]
    }
   ],
   "source": [
    "from tkinter import Button, Label\n",
    "\n",
    "def on_press():\n",
    "    print(\"press\")\n",
    "\n",
    "\n",
    "\n",
    "root = tk.Tk()\n",
    "root.title(\"안녕하세요\")\n",
    "root.geometry(\"400x400\")\n",
    "root.maxsize(600,400)\n",
    "\n",
    "\n",
    "#label 생성\n",
    "\n",
    "label = Label(root,  text=\"이거슨 레이블\")\n",
    "label.pack()\n",
    "button = Button(root, text=\"클릭\", command=on_press)\n",
    "button.pack()\n",
    "root.mainloop()"
   ]
  },
  {
   "cell_type": "code",
   "execution_count": 15,
   "metadata": {},
   "outputs": [],
   "source": []
  },
  {
   "cell_type": "code",
   "execution_count": null,
   "metadata": {},
   "outputs": [],
   "source": []
  },
  {
   "cell_type": "code",
   "execution_count": null,
   "metadata": {},
   "outputs": [],
   "source": []
  }
 ],
 "metadata": {
  "kernelspec": {
   "display_name": "Python 3.9.13 64-bit (windows store)",
   "language": "python",
   "name": "python3"
  },
  "language_info": {
   "codemirror_mode": {
    "name": "ipython",
    "version": 3
   },
   "file_extension": ".py",
   "mimetype": "text/x-python",
   "name": "python",
   "nbconvert_exporter": "python",
   "pygments_lexer": "ipython3",
   "version": "3.9.13"
  },
  "orig_nbformat": 4,
  "vscode": {
   "interpreter": {
    "hash": "3b1d11a3c36c6fc38730c0bbac2bbc1481b61daf269debc03c94e1fe6d695095"
   }
  }
 },
 "nbformat": 4,
 "nbformat_minor": 2
}
